{
 "cells": [
  {
   "cell_type": "markdown",
   "metadata": {},
   "source": [
    "<table>\n",
    "    <tr>\n",
    "        <td><img src=\"./img/Macc.png\" width=\"auto\"/></td>\n",
    "        <td>\n",
    "            <table><tr>\n",
    "            <h1 style=\"color:blue;text-align:center, text-weight: bold\">Lógica para Ciencias de la Computación</h1></td>\n",
    "            </tr></table>   \n",
    "        <td>&nbsp;</td>\n",
    "        <td>\n",
    "            <table><tr>\n",
    "            <tp><p style=\"font-size:150%;text-align:center\">3ra Entraga Proyecto</p></tp>\n",
    "            <tp><p style=\"font-size:150%;text-align:center\">Propuesta visualización para monitorias personalizadas</p></tp>\n",
    "            </tr></table>\n",
    "        </td>\n",
    "    </tr>\n",
    "</table>\n",
    "\n",
    "---"
   ]
  },
  {
   "cell_type": "markdown",
   "metadata": {},
   "source": [
    "# Objetivo <a class=\"anchor\" id=\"inicio\"></a>\n",
    "\n",
    "En esta entrega del proyecto se propone una posible interfaz gráfica la cual pueda dar una visualización de las posibles soluciones a una personalización de la asignación de monitorias para cualquier institución educativa del mundo. Esto fue construido con conocimientos que se han adquirido a lo largo del curso \"Lógica para las ciencias de la computación\" de la Universidad del Rosario."
   ]
  },
  {
   "cell_type": "markdown",
   "metadata": {},
   "source": [
    "# Secciones\n",
    "\n",
    "1. [Metodo de uso]()\n",
    "2. [Ejemplificación de posibles soluciones]()\n"
   ]
  },
  {
   "cell_type": "markdown",
   "metadata": {},
   "source": [
    "# Metodos de uso.\n",
    "\n",
    "([Volver al inicio](#inicio))\n",
    "\n",
    "En este caso, para que la solución gráfica tienga una solución apropiada, esta debe descargar todas sus dependencias como se muestra a continuación:"
   ]
  },
  {
   "cell_type": "code",
   "execution_count": 1,
   "metadata": {},
   "outputs": [],
   "source": [
    "from interfaz_grafica import *\n",
    "from horario import Horario"
   ]
  },
  {
   "cell_type": "code",
   "execution_count": 2,
   "metadata": {},
   "outputs": [],
   "source": [
    "%matplotlib inline"
   ]
  },
  {
   "cell_type": "markdown",
   "metadata": {},
   "source": [
    "Ahora, es necesario crear un objeto horario, par que este pueda acceder a todas las funciones contruidas, para dar solucion a nuestra problematica"
   ]
  },
  {
   "cell_type": "code",
   "execution_count": 3,
   "metadata": {},
   "outputs": [],
   "source": [
    "h = Horario()"
   ]
  },
  {
   "cell_type": "code",
   "execution_count": 4,
   "metadata": {},
   "outputs": [],
   "source": [
    "estudiantes = ['Moñas', 'Manuel', 'Sara']\n",
    "profesores = ['Norma', 'Edgar', 'Edwin']\n",
    "horarios = ['09:00 - 11:00', '11:00 - 13:00', '13:00 - 15:00']\n",
    "materias = ['Programación', 'Algebra', 'Calculo']"
   ]
  },
  {
   "cell_type": "code",
   "execution_count": 6,
   "metadata": {},
   "outputs": [
    {
     "name": "stdout",
     "output_type": "stream",
     "text": [
      "(La materia Calculo se ve en el horario 13:00 - 15:00 del estudiante Sara. > La materia Calculo se ve en el horario 13:00 - 15:00 del profesor Edwin.)\n"
     ]
    }
   ],
   "source": [
    "A = inorder_to_tree(h.reglas[5])\n",
    "print(A.ver(h.H))\n"
   ]
  },
  {
   "cell_type": "markdown",
   "metadata": {},
   "source": [
    "Por ultimó, se ejecuta la función: 'visualizar_horario' para verificar el correcto funcionamiento para visualizar posbiles soluciones de problemas."
   ]
  },
  {
   "cell_type": "code",
   "execution_count": null,
   "metadata": {},
   "outputs": [],
   "source": [
    "I ={h.H.ravel([1, 1, 1, 1]):True, h.H.ravel([0, 1, 1, 1]):True,h.H.ravel([0, 2, 1, 1]):True,h.H.ravel([0, 2, 2, ]):True}\n",
    "h.visualizar_est(I)"
   ]
  },
  {
   "cell_type": "markdown",
   "metadata": {},
   "source": [
    "# Ejemplificación de posibles soluciones.\n",
    "\n",
    "([Volver al inicio](#inicio))\n",
    "\n",
    "se procede a mostrar una ejemplificación de poisbles visualizaciones a soluciones para nuestro problema.\n",
    "\n",
    "Se tienen las posibles opciones de representacion:\n",
    "Todas las materias disponibles.\n",
    "Todas las materias no disponibles.\n",
    "Solo una materia disponible.\n",
    "Solo una materia no disponible."
   ]
  },
  {
   "cell_type": "code",
   "execution_count": null,
   "metadata": {},
   "outputs": [],
   "source": [
    "from Logica import *"
   ]
  },
  {
   "cell_type": "markdown",
   "metadata": {},
   "source": [
    "## Visualización primera regla.\n",
    "\n",
    "$$\\bigwedge_{e \\in \\text{estudiante}} \\bigwedge_{m \\in \\text{materia}} \\bigwedge_{h \\in \\text{horario}} \\Bigg(P(e, h, m) \\rightarrow \\bigvee_{p \\in \\text{profesores}} \\bigvee_{h' \\neq h}\\Bigg(P(e, h', m) \\land Q(p, h', m)\\Bigg)\\Bigg)$$\n",
    "\n",
    "\"Todo estudiante debe tener un profesor para la materia que demande\""
   ]
  },
  {
   "cell_type": "code",
   "execution_count": null,
   "metadata": {},
   "outputs": [],
   "source": [
    "# Caso 1: Todas las materias disponibles\n",
    "h.reglas[2]\n",
    "R1 = tseitin(h.reglas[1])\n",
    "s, dic = dpll(R1, {})"
   ]
  },
  {
   "cell_type": "code",
   "execution_count": null,
   "metadata": {},
   "outputs": [],
   "source": [
    "if s == 'Satisfacible':\n",
    "    h.visualizar_est(dic)\n",
    "else:\n",
    "    print('no es satisfacible')"
   ]
  },
  {
   "cell_type": "markdown",
   "metadata": {},
   "source": [
    "## Visualización segunda regla. (PENDIENTE POR CORRECIÓN)\n",
    "\n",
    "$$\\bigwedge_{p \\in profesores}\\bigwedge_{e \\in estudiantes}\\bigwedge_{h \\in horarios} \\bigwedge_{m \\in materias} \\Bigg(\\Bigg(P(e, h, m) \\land Q(p, h, m)\\Bigg) \\rightarrow \\bigwedge_{m' \\neq m}\\neg \\Bigg(P(e, h, m') \\land Q(p, h, m')\\Bigg)\\Bigg)$$\n",
    "\n",
    "\"Un profesor y estudiante, pueden estar en maximo 1 materia al mismo tiempo\""
   ]
  },
  {
   "cell_type": "code",
   "execution_count": null,
   "metadata": {},
   "outputs": [],
   "source": [
    "# Caso 2: Todas las materias disponibles\n",
    "h.reglas[1]\n",
    "R2 = tseitin(h.reglas[1])\n",
    "s, dic2 = dpll(R2, {})"
   ]
  },
  {
   "cell_type": "code",
   "execution_count": null,
   "metadata": {},
   "outputs": [],
   "source": [
    "if s == 'Satisfacible':\n",
    "    h.visualizar_est(dic2)\n",
    "else:\n",
    "    print('No es satisfacible')"
   ]
  },
  {
   "cell_type": "markdown",
   "metadata": {},
   "source": [
    "## Visualización tercera regla.\n",
    "\n",
    "$$\\bigwedge_{p \\in profesores} \\bigwedge_{e \\in estudiantes}\\bigwedge_{h \\in horarios} \\bigwedge_{m \\in materias} \\Bigg(\\Bigg( P(e, h, m) \\land Q(p, h, m )\\Bigg) \\rightarrow \\bigwedge_{p' \\neq p}\\neg \\Bigg(P(e, h, m) \\land Q(p', h, m)\\Bigg) \\Bigg)$$\n",
    "\n",
    "\n",
    "\"Toda monitoria puede tener máximo un profesor\""
   ]
  },
  {
   "cell_type": "code",
   "execution_count": null,
   "metadata": {},
   "outputs": [],
   "source": [
    "# Caso 2: Todas las materias disponibles\n",
    "h.reglas[2]\n",
    "R3 = tseitin(h.reglas[2])\n",
    "s, dic3 = dpll(R3, {h.H.ravel([0, 0, 1, 0]): False})"
   ]
  },
  {
   "cell_type": "code",
   "execution_count": null,
   "metadata": {},
   "outputs": [],
   "source": [
    "if s == 'Satisfacible':\n",
    "    h.visualizar_est(dic3)\n",
    "else:\n",
    "    print('No es satisfacible')"
   ]
  },
  {
   "cell_type": "code",
   "execution_count": 49,
   "metadata": {},
   "outputs": [
    {
     "data": {
      "image/png": "[encoded data removed]",
      "text/plain": [
       "<Figure size 800x90 with 1 Axes>"
      ]
     },
     "metadata": {},
     "output_type": "display_data"
    }
   ],
   "source": [
    "from interfaz_grafica import *\n",
    "from horario import Horario\n",
    "h = Horario()\n",
    "\n",
    "# Lista B para almacenar los resultados\n",
    "B = []\n",
    "\n",
    "################ CONDICIONES DE LOS ESTUDIANTES\n",
    "# Daniel: Programacion 9-11\n",
    "for materias in [m for m in range(len(h.materias)) if m != 0]:\n",
    "    for horarios in [h for h in range(len(h.horarios)) if h != 0]:\n",
    "        B.append('-' + h.H.ravel([0, 0, horarios, materias]))\n",
    "\n",
    "# Manuel: Algebra a la 11-1        \n",
    "for materias in [m for m in range(len(h.materias)) if m != 1]:\n",
    "    for horarios in [h for h in range(len(h.horarios)) if h != 1]:\n",
    "        B.append('-' + h.H.ravel([0, 1, horarios, materias]))\n",
    "\n",
    "# Sara: Calculo 1-3       \n",
    "for materias in [m for m in range(len(h.materias)) if m != 2]:\n",
    "    for horarios in [h for h in range(len(h.horarios)) if h != 2]:\n",
    "        B.append('-' + h.H.ravel([0, 2, horarios, materias]))\n",
    "\n",
    "################ CONDICIONES DE LOS PROFESORES\n",
    "# Norma: Calculo 1 - 3\n",
    "for materias in [m for m in range(len(h.materias)) if m != 2]:\n",
    "    for horarios in [h for h in range(len(h.horarios)) if h != 2]:\n",
    "        B.append('-' + h.H.ravel([1, 0, horarios, materias]))\n",
    "\n",
    "# Edgar: Algebra 11-1       \n",
    "for materias in [m for m in range(len(h.materias)) if m != 1]:\n",
    "    for horarios in [h for h in range(len(h.horarios)) if h != 1]:\n",
    "        B.append('-' + h.H.ravel([1, 1, horarios, materias]))\n",
    "\n",
    "# Edwin: Programacion 9-11\n",
    "for materias in [m for m in range(len(h.materias)) if m != 0]:\n",
    "    for horarios in [h for h in range(len(h.horarios)) if h != 0]:\n",
    "        B.append('-' + h.H.ravel([1, 2, horarios, materias]))\n",
    "\n",
    "\n",
    "        \n",
    "b_ytoriado = Ytoria(B)\n",
    "\n",
    "A = Ytoria([h.reglas[0], h.reglas[1], h.reglas[2], h.reglas[4], h.reglas[5], h.reglas[6], b_ytoriado])\n",
    "              \n",
    "# A = h.reglas[3]\n",
    "t = tseitin(A)\n",
    "\n",
    "s, dic = dpll(t, {})\n",
    "\n",
    "if s == 'Satisfacible':\n",
    "    h.visualizar_est(dic)\n",
    "else:\n",
    "    print('bobo')"
   ]
  }
 ],
 "metadata": {
  "kernelspec": {
   "display_name": "Python 3 (ipykernel)",
   "language": "python",
   "name": "python3"
  },
  "language_info": {
   "codemirror_mode": {
    "name": "ipython",
    "version": 3
   },
   "file_extension": ".py",
   "mimetype": "text/x-python",
   "name": "python",
   "nbconvert_exporter": "python",
   "pygments_lexer": "ipython3",
   "version": "3.11.9"
  }
 },
 "nbformat": 4,
 "nbformat_minor": 2
}
